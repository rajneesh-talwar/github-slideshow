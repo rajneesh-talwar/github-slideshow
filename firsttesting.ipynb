{
  "nbformat": 4,
  "nbformat_minor": 0,
  "metadata": {
    "colab": {
      "name": "Untitled0.ipynb",
      "provenance": [],
      "collapsed_sections": [],
      "authorship_tag": "ABX9TyOo5R5Cbk3QDWo0WOhSpkb1",
      "include_colab_link": true
    },
    "kernelspec": {
      "name": "python3",
      "display_name": "Python 3"
    },
    "language_info": {
      "name": "python"
    }
  },
  "cells": [
    {
      "cell_type": "markdown",
      "metadata": {
        "id": "view-in-github",
        "colab_type": "text"
      },
      "source": [
        "<a href=\"https://colab.research.google.com/github/rajneesh-talwar/github-slideshow/blob/master/firsttesting.ipynb\" target=\"_parent\"><img src=\"https://colab.research.google.com/assets/colab-badge.svg\" alt=\"Open In Colab\"/></a>"
      ]
    },
    {
      "cell_type": "code",
      "metadata": {
        "colab": {
          "base_uri": "https://localhost:8080/"
        },
        "id": "b-OfVDsWxVE9",
        "outputId": "435506c5-5f52-4ae9-887d-0ec8140f56b0"
      },
      "source": [
        "a=\"python basics\"\n",
        "print (a.upper())\n",
        "print (a.lower())"
      ],
      "execution_count": 2,
      "outputs": [
        {
          "output_type": "stream",
          "text": [
            "PYTHON BASICS\n",
            "python basics\n"
          ],
          "name": "stdout"
        }
      ]
    }
  ]
}